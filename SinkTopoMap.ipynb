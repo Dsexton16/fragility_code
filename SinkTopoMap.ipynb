{
 "cells": [
  {
   "cell_type": "code",
   "execution_count": null,
   "id": "8cd2f539-2b48-440f-a17d-7080fb995254",
   "metadata": {},
   "outputs": [],
   "source": [
    "import numpy as np\n",
    "import dsp\n",
    "import matplotlib.pyplot as plt\n",
    "import matplotlib.colors as colors\n",
    "from matplotlib import colormaps\n",
    "from scipy import stats\n"
   ]
  },
  {
   "cell_type": "code",
   "execution_count": null,
   "id": "7575c373-9e4a-4963-8ab0-f7b32439e402",
   "metadata": {},
   "outputs": [],
   "source": [
    "directorypath = \"\"\n",
    "AMatrix = np.load(\"\")"
   ]
  },
  {
   "cell_type": "code",
   "execution_count": null,
   "id": "e2d98471-c181-4a5c-ac68-0624c75c1b22",
   "metadata": {},
   "outputs": [],
   "source": [
    "keep_channels = [\n",
    "    \"Fp1\",\n",
    "    \"Fp2\",\n",
    "    \"F3\",\n",
    "    \"F4\",\n",
    "    \"F7\",\n",
    "    \"F8\",\n",
    "    \"T7\",\n",
    "    \"T8\",\n",
    "    \"P7\",\n",
    "    \"P8\",\n",
    "    \"P3\",\n",
    "    \"P4\",\n",
    "    \"O1\",\n",
    "    \"O2\",\n",
    "    \"Fz\",\n",
    "    \"Cz\",\n",
    "    \"Pz\",\n",
    "    \"C3\",\n",
    "    \"C4\"\n",
    "]"
   ]
  },
  {
   "cell_type": "code",
   "execution_count": null,
   "id": "5f14a754-680f-422c-a159-e89809c926f5",
   "metadata": {},
   "outputs": [],
   "source": [
    "def sinktopomap():\n",
    "    # xypos = np.asarray(pd.read_table(mainfolder + 'Data/eeg/' + titleString1 + '/eeg/' + titleString1 + '_electrodes.tsv'))\n",
    "    # dels = []\n",
    "    # for i in range(xypos.shape[0]):\n",
    "    #     if xypos[i,0] not in keep_channels:\n",
    "    #         dels.append(i)\n",
    "    # xypos = np.delete(xypos, np.asarray(dels), axis = 0)\n",
    "    # xypos = xypos[:,1:3]\n",
    "    # xypos = xypos.astype('float64')\n",
    "\n",
    "    # mne.set_montage('standard_1020')\n",
    "\n",
    "    mean_values = np.mean(sink_indices, axis=0)  # Mean over time for single recording\n",
    "\n",
    "    channel_names = keep_channels\n",
    "\n",
    "    pos = np.array([montage.get_positions()[\"ch_pos\"][ch][:2] for ch in channel_names])\n",
    "    \n",
    "    fig, ax = plt.subplots()\n",
    "    # mne.viz.plot_topomap(np.mean(sink_indices, axis = 0), xypos, size = 2, axes = ax, vlim=(0,1), cmap = 'RdBu_r', extrapolate = 'head', outlines = 'head', show = True, names = keep_channels)\n",
    "    # mne.viz.plot_topomap(np.mean(sink_indices, axis = 0), xypos, size = 2, axes = ax, vlim=(0,1), cmap = 'RdBu_r', extrapolate = 'head', outlines = 'head', show = True)\n",
    "    # mne.viz.plot_topomap(sink_indices[1726], xypos, size = 2, axes = ax, vlim=(0,1), cmap = 'RdBu_r', extrapolate = 'head', outlines = 'head', show = True)\n",
    "    # mne.viz.plot_topomap(np.mean(maxsink, axis = 0), pos = xypos,  size = 2, axes = ax, vlim=(0,1), cmap = 'RdBu_r', extrapolate = 'head', outlines = 'head', show = True, names = keep_channels)\n",
    "    mne.viz.plot_topomap(mean_values, pos,  size = 2, axes = ax, cmap = 'RdBu_r', extrapolate = 'head', outlines = 'head', show = True, names = channel_names)\n",
    "\n",
    "\n",
    "\n",
    "    # head outline not working\n",
    "    fig.savefig(os.path.join(directory_path, (titleString + \"gfpsinktopomap.svg\")))\n",
    "    return"
   ]
  },
  {
   "cell_type": "code",
   "execution_count": null,
   "id": "5107c8f9-aa18-4c9d-8e6a-369347650499",
   "metadata": {},
   "outputs": [],
   "source": [
    "for file in fileList:\n",
    "# file = fileList[0]\n",
    "# if file == fileList[0]:\n",
    "# file = fileList[0]\n",
    "# if file == fileList[0]:\n",
    "# for file in fileList[0:2]:\n",
    "\n",
    "    ahats = []\n",
    "    sink_indices = []\n",
    "    source_indices = []\n",
    "    source_influences = []\n",
    "    sink_connectivities = []\n",
    "    ssis = []\n",
    "    powers = []\n",
    "    evals = []\n",
    "    ahatswdiag = []\n",
    "    SVDS = []\n",
    "    \n",
    "for ahat in AMatrix\n",
    "    # Calculate source sink features and store\n",
    "    sink_indices.append(sink_idx)\n",
    "\n",
    "\n",
    "sink_indices = np.asarray(sink_indices)\n",
    "\n",
    "\n",
    "    \n",
    "sinktopomap()\n",
    "\n",
    "print(\"Complete!\")"
   ]
  }
 ],
 "metadata": {
  "kernelspec": {
   "display_name": "Python 3 (ipykernel)",
   "language": "python",
   "name": "python3"
  },
  "language_info": {
   "codemirror_mode": {
    "name": "ipython",
    "version": 3
   },
   "file_extension": ".py",
   "mimetype": "text/x-python",
   "name": "python",
   "nbconvert_exporter": "python",
   "pygments_lexer": "ipython3",
   "version": "3.10.2"
  }
 },
 "nbformat": 4,
 "nbformat_minor": 5
}
